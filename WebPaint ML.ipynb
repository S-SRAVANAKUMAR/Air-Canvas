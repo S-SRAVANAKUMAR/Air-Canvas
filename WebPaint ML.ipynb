{
 "cells": [
  {
   "cell_type": "code",
   "execution_count": 1,
   "metadata": {},
   "outputs": [],
   "source": [
    "import numpy as np\n",
    "import cv2\n",
    "from collections import deque"
   ]
  },
  {
   "cell_type": "code",
   "execution_count": 2,
   "metadata": {},
   "outputs": [],
   "source": [
    "blueLower = np.array([100, 60, 60])\n",
    "blueUpper = np.array([140, 255, 255])"
   ]
  },
  {
   "cell_type": "code",
   "execution_count": 3,
   "metadata": {},
   "outputs": [],
   "source": [
    "kernel = np.ones((5, 5), np.uint8)"
   ]
  },
  {
   "cell_type": "code",
   "execution_count": 4,
   "metadata": {},
   "outputs": [],
   "source": [
    "bpoints = [deque(maxlen=512)]\n",
    "gpoints = [deque(maxlen=512)]\n",
    "rpoints = [deque(maxlen=512)]\n",
    "ypoints = [deque(maxlen=512)]"
   ]
  },
  {
   "cell_type": "code",
   "execution_count": 5,
   "metadata": {},
   "outputs": [],
   "source": [
    "bindex = 0\n",
    "gindex = 0\n",
    "rindex = 0\n",
    "yindex = 0"
   ]
  },
  {
   "cell_type": "code",
   "execution_count": 6,
   "metadata": {},
   "outputs": [],
   "source": [
    "colors = [(255, 0, 0), (0, 255, 0), (0, 0, 255), (0, 255, 255)]\n",
    "colorIndex = 0"
   ]
  },
  {
   "cell_type": "code",
   "execution_count": 7,
   "metadata": {},
   "outputs": [],
   "source": [
    "paintWindow = np.zeros((471,636,3)) + 255\n",
    "paintWindow = cv2.rectangle(paintWindow, (40,1), (140,65), (0,0,0), 2)\n",
    "paintWindow = cv2.rectangle(paintWindow, (160,1), (255,65), colors[0], -1)\n",
    "paintWindow = cv2.rectangle(paintWindow, (275,1), (370,65), colors[1], -1)\n",
    "paintWindow = cv2.rectangle(paintWindow, (390,1), (485,65), colors[2], -1)\n",
    "paintWindow = cv2.rectangle(paintWindow, (505,1), (600,65), colors[3], -1)"
   ]
  },
  {
   "cell_type": "code",
   "execution_count": 8,
   "metadata": {},
   "outputs": [],
   "source": [
    "cv2.putText(paintWindow, \"CLEAR ALL\", (49, 33), cv2.FONT_HERSHEY_SIMPLEX, 0.5, (0, 0, 0), 2, cv2.LINE_AA)\n",
    "cv2.putText(paintWindow, \"BLUE\", (185, 33), cv2.FONT_HERSHEY_SIMPLEX, 0.5, (255, 255, 255), 2, cv2.LINE_AA)\n",
    "cv2.putText(paintWindow, \"GREEN\", (298, 33), cv2.FONT_HERSHEY_SIMPLEX, 0.5, (255, 255, 255), 2, cv2.LINE_AA)\n",
    "cv2.putText(paintWindow, \"RED\", (420, 33), cv2.FONT_HERSHEY_SIMPLEX, 0.5, (255, 255, 255), 2, cv2.LINE_AA)\n",
    "cv2.putText(paintWindow, \"YELLOW\", (520, 33), cv2.FONT_HERSHEY_SIMPLEX, 0.5, (150,150,150), 2, cv2.LINE_AA)\n",
    "\n",
    "cv2.namedWindow('Paint', cv2.WINDOW_AUTOSIZE)"
   ]
  },
  {
   "cell_type": "code",
   "execution_count": 9,
   "metadata": {},
   "outputs": [],
   "source": [
    "# Load the video\n",
    "camera = cv2.VideoCapture(0)"
   ]
  },
  {
   "cell_type": "code",
   "execution_count": null,
   "metadata": {},
   "outputs": [],
   "source": [
    "# Keep looping\n",
    "while True:\n",
    "    # Grab the current paintWindow\n",
    "    (grabbed, frame) = camera.read()\n",
    "    frame = cv2.flip(frame, 1)\n",
    "    hsv = cv2.cvtColor(frame, cv2.COLOR_BGR2HSV)\n",
    "    # Check to see if we have reached the end of the video (useful when input is a video file not a live video stream)\n",
    "    if not grabbed:\n",
    "        break\n",
    "\n",
    "    # Add the same paint interface to the camera feed captured through the webcam (for ease of usage)\n",
    "    frame = cv2.rectangle(frame, (40,1), (140,65), (122,122,122), -1)\n",
    "    frame = cv2.rectangle(frame, (160,1), (255,65), colors[0], -1)\n",
    "    frame = cv2.rectangle(frame, (275,1), (370,65), colors[1], -1)\n",
    "    frame = cv2.rectangle(frame, (390,1), (485,65), colors[2], -1)\n",
    "    frame = cv2.rectangle(frame, (505,1), (600,65), colors[3], -1)\n",
    "    cv2.putText(frame, \"CLEAR ALL\", (49, 33), cv2.FONT_HERSHEY_SIMPLEX, 0.5, (255, 255, 255), 2, cv2.LINE_AA)\n",
    "    cv2.putText(frame, \"BLUE\", (185, 33), cv2.FONT_HERSHEY_SIMPLEX, 0.5, (255, 255, 255), 2, cv2.LINE_AA)\n",
    "    cv2.putText(frame, \"GREEN\", (298, 33), cv2.FONT_HERSHEY_SIMPLEX, 0.5, (255, 255, 255), 2, cv2.LINE_AA)\n",
    "    cv2.putText(frame, \"RED\", (420, 33), cv2.FONT_HERSHEY_SIMPLEX, 0.5, (255, 255, 255), 2, cv2.LINE_AA)\n",
    "    cv2.putText(frame, \"YELLOW\", (520, 33), cv2.FONT_HERSHEY_SIMPLEX, 0.5, (150,150,150), 2, cv2.LINE_AA)\n",
    "    if not grabbed:\n",
    "        break\n"
   ]
  },
  {
   "cell_type": "code",
   "execution_count": null,
   "metadata": {},
   "outputs": [],
   "source": [
    "    blueMask = cv2.inRange(hsv, blueLower, blueUpper)\n",
    "    blueMask = cv2.erode(blueMask, kernel, iterations=2)\n",
    "    blueMask = cv2.morphologyEx(blueMask, cv2.MORPH_OPEN, kernel)\n",
    "    blueMask = cv2.dilate(blueMask, kernel, iterations=1)"
   ]
  },
  {
   "cell_type": "code",
   "execution_count": null,
   "metadata": {},
   "outputs": [],
   "source": [
    "(_, cnts, _) = cv2.findContours(blueMask.copy(), cv2.RETR_EXTERNAL,\n",
    " cv2.CHAIN_APPROX_SIMPLE)\n",
    " center = None\n",
    "\n",
    "    if len(cnts) > 0:\n",
    "\n",
    "    cnt = sorted(cnts, key = cv2.contourArea, reverse = True)[0]\n",
    "\n",
    "    ((x, y), radius) = cv2.minEnclosingCircle(cnt)\n",
    "\n",
    "    cv2.circle(frame, (int(x), int(y)), int(radius), (0, 255, 255), 2)\n",
    "    M = cv2.moments(cnt)\n",
    "    center = (int(M['m10'] / M['m00']), int(M['m01'] / M['m00']))"
   ]
  },
  {
   "cell_type": "code",
   "execution_count": null,
   "metadata": {},
   "outputs": [],
   "source": [
    "if center[1] <= 65:\n",
    "    if 40 <= center[0] <= 140: # Clear All\n",
    "    bpoints = [deque(maxlen=512)]\n",
    "    gpoints = [deque(maxlen=512)]\n",
    "    rpoints = [deque(maxlen=512)]\n",
    "    ypoints = [deque(maxlen=512)]\n",
    "    bindex = 0\n",
    "    gindex = 0\n",
    "    rindex = 0\n",
    "    yindex = 0\n",
    "    paintWindow[67:,:,:] = 255\n",
    "    elif 160 <= center[0] <= 255:\n",
    "    colorIndex = 0 # Blue\n",
    "    elif 275 <= center[0] <= 370:\n",
    "    colorIndex = 1 # Green\n",
    "    elif 390 <= center[0] <= 485:\n",
    "    colorIndex = 2 # Red\n",
    "    elif 505 <= center[0] <= 600:\n",
    "    colorIndex = 3 # Yellow\n",
    "    else :\n",
    "    if colorIndex == 0:\n",
    "    bpoints[bindex].appendleft(center)\n",
    "    elif colorIndex == 1:\n",
    "    gpoints[gindex].appendleft(center)\n",
    "    elif colorIndex == 2:\n",
    "    rpoints[rindex].appendleft(center)\n",
    "    elif colorIndex == 3:\n",
    "    ypoints[yindex].appendleft(center)\n",
    "\n",
    "    else:\n",
    "    bpoints.append(deque(maxlen=512))\n",
    "    bindex += 1\n",
    "    gpoints.append(deque(maxlen=512))\n",
    "    gindex += 1\n",
    "    rpoints.append(deque(maxlen=512))\n",
    "    rindex += 1\n",
    "    ypoints.append(deque(maxlen=512))\n",
    "    yindex += 1"
   ]
  },
  {
   "cell_type": "code",
   "execution_count": null,
   "metadata": {},
   "outputs": [],
   "source": [
    "points = [bpoints, gpoints, rpoints, ypoints]\n",
    " for i in range(len(points)):\n",
    "    for j in range(len(points[i])):\n",
    "    for k in range(1, len(points[i][j])):\n",
    "    if points[i][j][k - 1] is None or points[i][j][k] is None:\n",
    "    continue\n",
    "    cv2.line(frame, points[i][j][k - 1], points[i][j][k], colors[i], 2)\n",
    "    cv2.line(paintWindow, points[i][j][k - 1], points[i][j][k], colors[i], 2)\n",
    "    cv2.imshow(\"Tracking\", frame)\n",
    "    cv2.imshow(\"Paint\", paintWindow)\n",
    "    if cv2.waitKey(1) & 0xFF == ord(\"q\"):\n",
    "    break\n"
   ]
  },
  {
   "cell_type": "code",
   "execution_count": null,
   "metadata": {},
   "outputs": [],
   "source": [
    "camera.release()\n",
    "cv2.destroyAllWindows()"
   ]
  },
  {
   "cell_type": "code",
   "execution_count": null,
   "metadata": {},
   "outputs": [],
   "source": []
  },
  {
   "cell_type": "code",
   "execution_count": null,
   "metadata": {},
   "outputs": [],
   "source": []
  }
 ],
 "metadata": {
  "kernelspec": {
   "display_name": "Python 3",
   "language": "python",
   "name": "python3"
  },
  "language_info": {
   "codemirror_mode": {
    "name": "ipython",
    "version": 3
   },
   "file_extension": ".py",
   "mimetype": "text/x-python",
   "name": "python",
   "nbconvert_exporter": "python",
   "pygments_lexer": "ipython3",
   "version": "3.8.5"
  }
 },
 "nbformat": 4,
 "nbformat_minor": 4
}
